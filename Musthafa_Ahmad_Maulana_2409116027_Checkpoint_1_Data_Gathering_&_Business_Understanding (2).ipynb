{
  "nbformat": 4,
  "nbformat_minor": 0,
  "metadata": {
    "colab": {
      "provenance": []
    },
    "kernelspec": {
      "name": "python3",
      "display_name": "Python 3"
    },
    "language_info": {
      "name": "python"
    }
  },
  "cells": [
    {
      "cell_type": "markdown",
      "source": [
        "#**Business Understanding**"
      ],
      "metadata": {
        "id": "lnOrI90gMndy"
      }
    },
    {
      "cell_type": "markdown",
      "source": [
        "##**Business Objective**"
      ],
      "metadata": {
        "id": "XVfEzc-3M7XY"
      }
    },
    {
      "cell_type": "markdown",
      "source": [
        "Tujuan utama proyek ini adalah untuk memahami pelanggan dalam pembelian mobil\n",
        "untuk mengoptimalkan penjualan mobil dengan mempertimbangkan beberapa faktor penting  seperti meningkatkan volume penjualan, meningkatkan profitabilitas yang dapat mempengaruhi keputusan pembelian pelanggan. proyek ini juga bertujuan untuk membantu calon pembeli agar lebih percaya diri dalam mengambil keputusan dengan menyediakan informasi yang lebih transparan mengenai faktor-faktor yang memengaruhi harga mobil bekas."
      ],
      "metadata": {
        "id": "fHdbsGlENHfj"
      }
    },
    {
      "cell_type": "markdown",
      "source": [
        "##**Assess Situation**"
      ],
      "metadata": {
        "id": "SoYpHIt3T_xV"
      }
    },
    {
      "cell_type": "markdown",
      "source": [
        "Situasi penilaian berfokus pada pemahaman kondisi pasar, kinerja penjualan mobil bekas, serta tren pasar yang ada. Dengan berbagai merek, jenis dan spesifikasi yang tersedia, konsumen memiliki banyak pilihan sebelum melakukan pembelian. Maka dari itu penting bagi penjual untuk memahami persaingan pasar dan pola pembelian agar dapat menawarkan produk yang tepat."
      ],
      "metadata": {
        "id": "l5sc9t_TUEAa"
      }
    },
    {
      "cell_type": "markdown",
      "source": [
        "##**Data Mining Goals**"
      ],
      "metadata": {
        "id": "4wVSibTyV3WJ"
      }
    },
    {
      "cell_type": "markdown",
      "source": [
        "- Menganalisis tren pembelian mobil berdasarkan usia, harga dan jarak tempuh.\n",
        "- Mengidentifikasi merek atau jenis mobil yang paling diminati pelanggan.\n",
        "- Memahami preferensi pelanggan agar dapat mengetahui apa yang diinginkan pelanggan.\n",
        "- Mengevaluasi performa penjualan untuk mendukung pengambilan keputusan pada masa yang akan datang."
      ],
      "metadata": {
        "id": "NIQU6PvPWC1s"
      }
    },
    {
      "cell_type": "markdown",
      "source": [
        "##**Project Plan**"
      ],
      "metadata": {
        "id": "cy-6K6yoYF3N"
      }
    },
    {
      "cell_type": "markdown",
      "source": [
        "1. Pengumpulan Data dan Pembersihan data\n",
        "\n",
        "    Mengumpulkan data pembelian mobil dari Car Dekho dan membersihkan data dari nilai yang tidak valid maupun hilang.\n",
        "2. Analisis Eksploratif (EDA)\n",
        "- Membuat visualisasi tren harga kendaraan berdasarkan usia mobil, jarak tempuh, jenis bahan bakar, dan merek untuk memahami pola harga di pasar.\n",
        "- Mengidentifikasi segmen pelanggan berdasarkan preferensi pembelian, seperti kisaran harga dan jenis bahan bakar yang lebih disukai.\n",
        "3. Modeling & Insights\n",
        "- Menganalisis hubungan antara harga kendaraan dan faktor-faktor utama, seperti usia kendaraan, jarak tempuh, merek, serta jenis bahan bakar.\n",
        "- Menyusun strategi rekomendasi harga yang lebih optimal berdasarkan hasil analisis prediktif.\n",
        "4. Dokumentasi & Presentasi\n",
        "- Menyusun laporan hasil analisis\n",
        "- Menyajikan insight dalam bentuk dashboard yang memungkinkan pemantauan tren harga secara real-time.\n"
      ],
      "metadata": {
        "id": "Kvr2GcjYYNaa"
      }
    }
  ]
}
